{
  "nbformat": 4,
  "nbformat_minor": 0,
  "metadata": {
    "colab": {
      "name": "Spatial_Stream_Sampled.ipynb",
      "provenance": [],
      "collapsed_sections": [],
      "machine_shape": "hm"
    },
    "kernelspec": {
      "name": "python3",
      "display_name": "Python 3"
    },
    "accelerator": "GPU"
  },
  "cells": [
    {
      "cell_type": "markdown",
      "metadata": {
        "id": "-tgqAhYHvNg2"
      },
      "source": [
        "# Check GPU"
      ]
    },
    {
      "cell_type": "code",
      "metadata": {
        "colab": {
          "base_uri": "https://localhost:8080/"
        },
        "id": "PA580dbFbyEn",
        "outputId": "b307d3c4-98d5-41ef-be7f-2ceb545d1665"
      },
      "source": [
        "gpu_info = !nvidia-smi\n",
        "gpu_info = '\\n'.join(gpu_info)\n",
        "if gpu_info.find('failed') >= 0:\n",
        "  print('Select the Runtime > \"Change runtime type\" menu to enable a GPU accelerator, ')\n",
        "  print('and then re-execute this cell.')\n",
        "else:\n",
        "  print(gpu_info)"
      ],
      "execution_count": 1,
      "outputs": [
        {
          "output_type": "stream",
          "text": [
            "Fri Dec 18 09:41:28 2020       \n",
            "+-----------------------------------------------------------------------------+\n",
            "| NVIDIA-SMI 455.45.01    Driver Version: 418.67       CUDA Version: 10.1     |\n",
            "|-------------------------------+----------------------+----------------------+\n",
            "| GPU  Name        Persistence-M| Bus-Id        Disp.A | Volatile Uncorr. ECC |\n",
            "| Fan  Temp  Perf  Pwr:Usage/Cap|         Memory-Usage | GPU-Util  Compute M. |\n",
            "|                               |                      |               MIG M. |\n",
            "|===============================+======================+======================|\n",
            "|   0  Tesla P100-PCIE...  Off  | 00000000:00:04.0 Off |                    0 |\n",
            "| N/A   48C    P0    32W / 250W |      0MiB / 16280MiB |      0%      Default |\n",
            "|                               |                      |                 ERR! |\n",
            "+-------------------------------+----------------------+----------------------+\n",
            "                                                                               \n",
            "+-----------------------------------------------------------------------------+\n",
            "| Processes:                                                                  |\n",
            "|  GPU   GI   CI        PID   Type   Process name                  GPU Memory |\n",
            "|        ID   ID                                                   Usage      |\n",
            "|=============================================================================|\n",
            "|  No running processes found                                                 |\n",
            "+-----------------------------------------------------------------------------+\n"
          ],
          "name": "stdout"
        }
      ]
    },
    {
      "cell_type": "markdown",
      "metadata": {
        "id": "JOC44nKYDOn8"
      },
      "source": [
        "# Run this command once and restart the runtime"
      ]
    },
    {
      "cell_type": "code",
      "metadata": {
        "colab": {
          "base_uri": "https://localhost:8080/"
        },
        "id": "MhZffaB6C7Z7",
        "outputId": "e491cce7-7030-465d-92b2-6c0b8ac099a6"
      },
      "source": [
        "!pip install av"
      ],
      "execution_count": null,
      "outputs": [
        {
          "output_type": "stream",
          "text": [
            "Collecting av\n",
            "\u001b[?25l  Downloading https://files.pythonhosted.org/packages/9e/62/9a992be76f8e13ce0e3a24a838191b546805545116f9fc869bd11bd21b5f/av-8.0.2-cp36-cp36m-manylinux2010_x86_64.whl (36.9MB)\n",
            "\u001b[K     |████████████████████████████████| 36.9MB 138kB/s \n",
            "\u001b[?25hInstalling collected packages: av\n",
            "Successfully installed av-8.0.2\n"
          ],
          "name": "stdout"
        }
      ]
    },
    {
      "cell_type": "markdown",
      "metadata": {
        "id": "nwpGXLdtuq8i"
      },
      "source": [
        "# Mount drive\n"
      ]
    },
    {
      "cell_type": "code",
      "metadata": {
        "colab": {
          "base_uri": "https://localhost:8080/"
        },
        "id": "F6nsoL9Kuqil",
        "outputId": "fb6c017e-d576-481a-b4f2-dcc50338e42f"
      },
      "source": [
        "import os\n",
        "import io\n",
        "from google.colab import drive\n",
        "\n",
        "# Mount google drive\n",
        "DRIVE_MOUNT='/content/drive'\n",
        "\n",
        "drive.mount(DRIVE_MOUNT)\n",
        "\n",
        "# create folder to write data to\n",
        "DATA_FOLDER = os.path.join(DRIVE_MOUNT, 'Shared drives', 'CIS680 Final Project', 'data')\n",
        "TRAIN_FOLDER = os.path.join(DATA_FOLDER, 'dataset_3', 'train')\n",
        "TEST_FOLDER = os.path.join(DATA_FOLDER, 'dataset_3', 'test')"
      ],
      "execution_count": 1,
      "outputs": [
        {
          "output_type": "stream",
          "text": [
            "Mounted at /content/drive\n"
          ],
          "name": "stdout"
        }
      ]
    },
    {
      "cell_type": "markdown",
      "metadata": {
        "id": "yo6FpL-ddpSI"
      },
      "source": [
        "# Model"
      ]
    },
    {
      "cell_type": "code",
      "metadata": {
        "id": "g8J0AEPhdqg8"
      },
      "source": [
        "import torch\n",
        "from torch.nn import functional as F\n",
        "from torchvision import transforms\n",
        "from torch import nn, Tensor\n",
        "# from dataset import *\n",
        "import random\n",
        "import torchvision\n",
        "import torchvision.models as models\n",
        "import torch.optim as optim\n",
        "\n",
        "\n",
        "class SpatialStream(torch.nn.Module):\n",
        "\n",
        "    def __init__(self, \n",
        "                 device='cuda',\n",
        "                 num_classes=51,\n",
        "                 dropout_probability=0.5,\n",
        "                 train_resnet=True):\n",
        "\n",
        "        # Initialize the stream layers\n",
        "        super(SpatialStream, self).__init__()\n",
        "        self.device = device\n",
        "        self.num_classes = num_classes\n",
        "\n",
        "        # Spatial Backbone\n",
        "        self.spatial = models.resnet50(pretrained=True)\n",
        "        for param in self.spatial.parameters():\n",
        "            param.requires_grad = train_resnet  # False: Freezes the weights of the pre-trained model\n",
        "\n",
        "        # Add to Spatial Backbone\n",
        "        self.spatial.fc = nn.Sequential(nn.Linear(2048, 1024),\n",
        "                                nn.ReLU(),\n",
        "                                nn.Dropout(p=dropout_probability),\n",
        "                                nn.Linear(1024, self.num_classes),\n",
        "                                nn.ReLU(),\n",
        "                                nn.Dropout(p=dropout_probability),\n",
        "                                nn.Softmax())\n",
        "\n",
        "    def forward(self, X):\n",
        "        return self.spatial(X)\n",
        "\n",
        "    def compute_loss(self, output, labels):\n",
        "        criterion = nn.CrossEntropyLoss()\n",
        "        # labels = torch.tensor(labels)\n",
        "\n",
        "        loss = criterion(output, labels)\n",
        "        return loss"
      ],
      "execution_count": 3,
      "outputs": []
    },
    {
      "cell_type": "markdown",
      "metadata": {
        "id": "q86rcNdPQNL0"
      },
      "source": [
        "# Cache data"
      ]
    },
    {
      "cell_type": "code",
      "metadata": {
        "colab": {
          "base_uri": "https://localhost:8080/"
        },
        "id": "YeWp2LAFp8CA",
        "outputId": "0215c2e0-aa5a-41bc-dd5a-50c75c2a1954"
      },
      "source": [
        "data_train = []\r\n",
        "data_test = []\r\n",
        "for iter in range(b_train):\r\n",
        "  data_train.append(torch.load(TRAIN_FOLDER + '/train_b{}.pt'.format(iter)))\r\n",
        "  if iter%5==0:\r\n",
        "    print(iter)\r\n",
        "for iter in range(b_test):\r\n",
        "  data_test.append(torch.load(TEST_FOLDER + '/test_b{}.pt'.format(iter)))\r\n",
        "  if iter%5==0:\r\n",
        "    print(iter)"
      ],
      "execution_count": 5,
      "outputs": [
        {
          "output_type": "stream",
          "text": [
            "0\n",
            "5\n",
            "10\n",
            "15\n",
            "20\n",
            "25\n",
            "30\n",
            "35\n",
            "40\n",
            "45\n",
            "50\n",
            "55\n",
            "60\n",
            "65\n",
            "70\n",
            "75\n",
            "80\n",
            "85\n",
            "90\n",
            "95\n",
            "100\n",
            "105\n",
            "110\n",
            "115\n",
            "120\n",
            "125\n",
            "130\n",
            "135\n",
            "0\n",
            "5\n",
            "10\n",
            "15\n",
            "20\n",
            "25\n",
            "30\n",
            "35\n",
            "40\n"
          ],
          "name": "stdout"
        }
      ]
    },
    {
      "cell_type": "markdown",
      "metadata": {
        "id": "8pEvnrSVeftj"
      },
      "source": [
        "# Train & Test Functions"
      ]
    },
    {
      "cell_type": "code",
      "metadata": {
        "id": "ggkzqmwzefQq"
      },
      "source": [
        "import torchvision.transforms as tf\n",
        "trans = tf.RandomHorizontalFlip()\n",
        "b_train = 138\n",
        "n_train = 17627\n",
        "b_test = 41\n",
        "n_test = 5145\n",
        "batch_size = 128\n",
        "\n",
        "def train(epoch):\n",
        "    \n",
        "    spatial.train()\n",
        "    counter = 0\n",
        "    train_loss = 0\n",
        "    log_interval = 25\n",
        "    save_interval = 50\n",
        "\n",
        "    epoch_loss = []\n",
        "    log_int_loss = 0\n",
        "    num_iter = 0\n",
        "\n",
        "    for iter in range(b_train):\n",
        "        data = data_train[iter]#torch.load(TRAIN_FOLDER + '/train_b{}.pt'.format(iter))\n",
        "\n",
        "        pick = random.randint(0, 2)\n",
        "        videos = data[\"videos\"][:,pick,:,:].permute(0, 3, 1, 2)\n",
        "        videos = trans(videos)\n",
        "        labels = torch.tensor(data[\"labels\"].copy())\n",
        "\n",
        "        num_iter+=videos.shape[0]\n",
        "\n",
        "        videos = videos.type(torch.FloatTensor)\n",
        "        videos = videos.to(device)\n",
        "        # labels = labels.to(device)\n",
        "\n",
        "        optimizer.zero_grad()\n",
        "\n",
        "        output = spatial(videos)\n",
        "        output = output.to(device)\n",
        "        labels = labels.to(device)\n",
        "\n",
        "        # calculate losses\n",
        "        loss = spatial.compute_loss(output, labels)\n",
        "\n",
        "        loss.backward()\n",
        "        optimizer.step()\n",
        "        train_loss += loss.item()\n",
        "\n",
        "        # Logging Interval\n",
        "        log_int_loss += loss.item()\n",
        "        epoch_loss.append(loss.item())\n",
        "\n",
        "        if counter == 0:\n",
        "            print('Epoch: ', epoch, ', Batch: ', iter, ', loss avg over log interval: ', log_int_loss)\n",
        "            train_loss_list.append(train_loss / num_iter)\n",
        "            train_counter.append(num_iter + epoch * n_train)\n",
        "            log_int_loss = 0\n",
        "        elif counter % log_interval == log_interval - 1:\n",
        "            print('Epoch: ', epoch, ', Batch: ', iter, ', loss avg over log interval: ', log_int_loss / log_interval)\n",
        "            train_loss_list.append(train_loss / num_iter)\n",
        "            train_counter.append(num_iter + epoch * n_train)\n",
        "            log_int_loss = 0\n",
        "\n",
        "        if counter % save_interval == save_interval - 1 or counter==b_train-1:\n",
        "            print('saving model')\n",
        "            save_path = os.path.join(EPOCH_SAVE_PREFIX, 'spatial_epoch' + str(epoch) + '_iter_' + str(counter))\n",
        "            torch.save({\n",
        "                'epoch': epoch,\n",
        "                'train_total_loss_list': train_loss_list,\n",
        "                'epoch_total_loss_list': epoch_loss_list,\n",
        "                'test_loss_list': test_loss_list,\n",
        "                'train_counter': train_counter,\n",
        "                'accuracy_list': accuracy_list,\n",
        "                'model_state_dict': spatial.state_dict(),\n",
        "                'optimizer_state_dict': optimizer.state_dict()\n",
        "            }, save_path)\n",
        "\n",
        "        counter += 1\n",
        "\n",
        "\n",
        "    avg_loss = sum(epoch_loss) / len(epoch_loss)\n",
        "    epoch_loss_list.append(avg_loss)\n",
        "    print('Epoch: ', epoch, ', avg total loss: ', avg_loss)\n",
        "\n",
        "def test():\n",
        "    spatial.eval()\n",
        "    test_loss = 0\n",
        "    correct = 0\n",
        "\n",
        "    # Data Loop\n",
        "    with torch.no_grad():\n",
        "        for iter in range(b_test):\n",
        "            data = data_test[iter]#torch.load(TRAIN_FOLDER + '/test_b{}.pt'.format(iter))\n",
        "            videos = data[\"videos\"][:,0,:,:].permute(0, 3, 1, 2)\n",
        "            labels = torch.tensor(data[\"labels\"].copy())\n",
        "\n",
        "            videos = videos.type(torch.FloatTensor)\n",
        "            videos = videos.to(device)\n",
        "            labels = labels.to(device)\n",
        "\n",
        "            output = spatial(videos)\n",
        "            output = output.to(device)\n",
        "\n",
        "            # calculate losses\n",
        "            loss = spatial.compute_loss(output, labels)\n",
        "\n",
        "            test_loss += loss.item()\n",
        "\n",
        "            # calculate number of correct predictions in batch\n",
        "            correct += sum(torch.argmax(output,1) == labels).item()\n",
        "            if iter % 100 == 0:\n",
        "                print (\"iter  \", iter)\n",
        "                print(\"accuracy so far = \", correct / ((iter + 1) * len(labels)))\n",
        "\n",
        "    # Log\n",
        "    test_loss_list.append(test_loss / n_test)\n",
        "    accuracy = correct / n_test\n",
        "    accuracy_list.append(accuracy)\n",
        "    print('Avg Validation Loss: ', test_loss / n_test)\n",
        "    print('Accuracy: ', accuracy)"
      ],
      "execution_count": 4,
      "outputs": []
    },
    {
      "cell_type": "markdown",
      "metadata": {
        "id": "sxNfXCLLYcbW"
      },
      "source": [
        "# Main Training Loop"
      ]
    },
    {
      "cell_type": "code",
      "metadata": {
        "colab": {
          "base_uri": "https://localhost:8080/",
          "height": 425
        },
        "id": "SiW7i49DYbwc",
        "outputId": "cb24a9b0-e159-4b46-f697-4981cc2d238d"
      },
      "source": [
        "import numpy as np\n",
        "EPOCH_SAVE_PREFIX = '/content/drive/Shared drives/CIS680 Final Project/models/spatial_sampled_3/'\n",
        "\n",
        "# Device\n",
        "device = torch.device('cuda') if torch.cuda.is_available() else torch.device('cpu')\n",
        "torch.random.manual_seed(1)\n",
        "\n",
        "# model\n",
        "learning_rate = 0.0001\n",
        "spatial = SpatialStream()\n",
        "spatial.to(device)\n",
        "optimizer = optim.AdamW(spatial.parameters(), lr=learning_rate)#, momentum=0.9)\n",
        "\n",
        "# initialize weights\n",
        "# for m in spatial.modules():\n",
        "#     if isinstance(m, torch.nn.Linear):\n",
        "#         torch.nn.init.normal_(m.weight, mean = 0, std = 0.01)\n",
        "#         torch.nn.init.constant_(m.bias, 0)\n",
        "\n",
        "# Epochs\n",
        "num_epochs = 100\n",
        "# Logging setup: train\n",
        "train_loss_list = []\n",
        "epoch_loss_list = []\n",
        "train_counter = []\n",
        "\n",
        "# Logging setup: test\n",
        "test_loss_list = []\n",
        "accuracy_list = []\n",
        "epoch_list = np.arange(num_epochs)\n",
        "\n",
        "# epoch loop\n",
        "for epoch in range(num_epochs):\n",
        "\n",
        "    # Train & Validate\n",
        "    train(epoch)\n",
        "    test()\n",
        "\n",
        "    # Adjust Learning Rate\n",
        "    # if epoch == 8 or epoch == 13:\n",
        "    #     pass\n",
        "\n",
        "    # Save Model Version\n",
        "    save_path = os.path.join(EPOCH_SAVE_PREFIX, 'spatial_epoch' + str(epoch))\n",
        "    torch.save({\n",
        "        'epoch': epoch,\n",
        "        'train_total_loss_list': train_loss_list,\n",
        "        'epoch_total_loss_list': epoch_loss_list,\n",
        "        'test_loss_list': test_loss_list,\n",
        "        'train_counter': train_counter,\n",
        "        'accuracy_list': accuracy_list,\n",
        "        'model_state_dict': spatial.state_dict(),\n",
        "        'optimizer_state_dict': optimizer.state_dict()\n",
        "    }, save_path)\n",
        "\n",
        "    print(\"Epoch %d/%d Completed\" % (epoch, num_epochs - 1))"
      ],
      "execution_count": 9,
      "outputs": [
        {
          "output_type": "stream",
          "text": [
            "/usr/local/lib/python3.6/dist-packages/torch/nn/modules/container.py:117: UserWarning: Implicit dimension choice for softmax has been deprecated. Change the call to include dim=X as an argument.\n",
            "  input = module(input)\n"
          ],
          "name": "stderr"
        },
        {
          "output_type": "stream",
          "text": [
            "Epoch:  0 , Batch:  0 , loss avg over log interval:  3.932096481323242\n"
          ],
          "name": "stdout"
        },
        {
          "output_type": "error",
          "ename": "KeyboardInterrupt",
          "evalue": "ignored",
          "traceback": [
            "\u001b[0;31m---------------------------------------------------------------------------\u001b[0m",
            "\u001b[0;31mKeyboardInterrupt\u001b[0m                         Traceback (most recent call last)",
            "\u001b[0;32m<ipython-input-9-519bc1c62c85>\u001b[0m in \u001b[0;36m<module>\u001b[0;34m()\u001b[0m\n\u001b[1;32m     34\u001b[0m \u001b[0;34m\u001b[0m\u001b[0m\n\u001b[1;32m     35\u001b[0m     \u001b[0;31m# Train & Validate\u001b[0m\u001b[0;34m\u001b[0m\u001b[0;34m\u001b[0m\u001b[0;34m\u001b[0m\u001b[0m\n\u001b[0;32m---> 36\u001b[0;31m     \u001b[0mtrain\u001b[0m\u001b[0;34m(\u001b[0m\u001b[0mepoch\u001b[0m\u001b[0;34m)\u001b[0m\u001b[0;34m\u001b[0m\u001b[0;34m\u001b[0m\u001b[0m\n\u001b[0m\u001b[1;32m     37\u001b[0m     \u001b[0mtest\u001b[0m\u001b[0;34m(\u001b[0m\u001b[0;34m)\u001b[0m\u001b[0;34m\u001b[0m\u001b[0;34m\u001b[0m\u001b[0m\n\u001b[1;32m     38\u001b[0m \u001b[0;34m\u001b[0m\u001b[0m\n",
            "\u001b[0;32m<ipython-input-8-0cefef067d61>\u001b[0m in \u001b[0;36mtrain\u001b[0;34m(epoch)\u001b[0m\n\u001b[1;32m     43\u001b[0m \u001b[0;34m\u001b[0m\u001b[0m\n\u001b[1;32m     44\u001b[0m         \u001b[0mloss\u001b[0m\u001b[0;34m.\u001b[0m\u001b[0mbackward\u001b[0m\u001b[0;34m(\u001b[0m\u001b[0;34m)\u001b[0m\u001b[0;34m\u001b[0m\u001b[0;34m\u001b[0m\u001b[0m\n\u001b[0;32m---> 45\u001b[0;31m         \u001b[0moptimizer\u001b[0m\u001b[0;34m.\u001b[0m\u001b[0mstep\u001b[0m\u001b[0;34m(\u001b[0m\u001b[0;34m)\u001b[0m\u001b[0;34m\u001b[0m\u001b[0;34m\u001b[0m\u001b[0m\n\u001b[0m\u001b[1;32m     46\u001b[0m         \u001b[0mtrain_loss\u001b[0m \u001b[0;34m+=\u001b[0m \u001b[0mloss\u001b[0m\u001b[0;34m.\u001b[0m\u001b[0mitem\u001b[0m\u001b[0;34m(\u001b[0m\u001b[0;34m)\u001b[0m\u001b[0;34m\u001b[0m\u001b[0;34m\u001b[0m\u001b[0m\n\u001b[1;32m     47\u001b[0m \u001b[0;34m\u001b[0m\u001b[0m\n",
            "\u001b[0;32m/usr/local/lib/python3.6/dist-packages/torch/autograd/grad_mode.py\u001b[0m in \u001b[0;36mdecorate_context\u001b[0;34m(*args, **kwargs)\u001b[0m\n\u001b[1;32m     24\u001b[0m         \u001b[0;32mdef\u001b[0m \u001b[0mdecorate_context\u001b[0m\u001b[0;34m(\u001b[0m\u001b[0;34m*\u001b[0m\u001b[0margs\u001b[0m\u001b[0;34m,\u001b[0m \u001b[0;34m**\u001b[0m\u001b[0mkwargs\u001b[0m\u001b[0;34m)\u001b[0m\u001b[0;34m:\u001b[0m\u001b[0;34m\u001b[0m\u001b[0;34m\u001b[0m\u001b[0m\n\u001b[1;32m     25\u001b[0m             \u001b[0;32mwith\u001b[0m \u001b[0mself\u001b[0m\u001b[0;34m.\u001b[0m\u001b[0m__class__\u001b[0m\u001b[0;34m(\u001b[0m\u001b[0;34m)\u001b[0m\u001b[0;34m:\u001b[0m\u001b[0;34m\u001b[0m\u001b[0;34m\u001b[0m\u001b[0m\n\u001b[0;32m---> 26\u001b[0;31m                 \u001b[0;32mreturn\u001b[0m \u001b[0mfunc\u001b[0m\u001b[0;34m(\u001b[0m\u001b[0;34m*\u001b[0m\u001b[0margs\u001b[0m\u001b[0;34m,\u001b[0m \u001b[0;34m**\u001b[0m\u001b[0mkwargs\u001b[0m\u001b[0;34m)\u001b[0m\u001b[0;34m\u001b[0m\u001b[0;34m\u001b[0m\u001b[0m\n\u001b[0m\u001b[1;32m     27\u001b[0m         \u001b[0;32mreturn\u001b[0m \u001b[0mcast\u001b[0m\u001b[0;34m(\u001b[0m\u001b[0mF\u001b[0m\u001b[0;34m,\u001b[0m \u001b[0mdecorate_context\u001b[0m\u001b[0;34m)\u001b[0m\u001b[0;34m\u001b[0m\u001b[0;34m\u001b[0m\u001b[0m\n\u001b[1;32m     28\u001b[0m \u001b[0;34m\u001b[0m\u001b[0m\n",
            "\u001b[0;32m/usr/local/lib/python3.6/dist-packages/torch/optim/adamw.py\u001b[0m in \u001b[0;36mstep\u001b[0;34m(self, closure)\u001b[0m\n\u001b[1;32m    103\u001b[0m                 \u001b[0;31m# Decay the first and second moment running average coefficient\u001b[0m\u001b[0;34m\u001b[0m\u001b[0;34m\u001b[0m\u001b[0;34m\u001b[0m\u001b[0m\n\u001b[1;32m    104\u001b[0m                 \u001b[0mexp_avg\u001b[0m\u001b[0;34m.\u001b[0m\u001b[0mmul_\u001b[0m\u001b[0;34m(\u001b[0m\u001b[0mbeta1\u001b[0m\u001b[0;34m)\u001b[0m\u001b[0;34m.\u001b[0m\u001b[0madd_\u001b[0m\u001b[0;34m(\u001b[0m\u001b[0mgrad\u001b[0m\u001b[0;34m,\u001b[0m \u001b[0malpha\u001b[0m\u001b[0;34m=\u001b[0m\u001b[0;36m1\u001b[0m \u001b[0;34m-\u001b[0m \u001b[0mbeta1\u001b[0m\u001b[0;34m)\u001b[0m\u001b[0;34m\u001b[0m\u001b[0;34m\u001b[0m\u001b[0m\n\u001b[0;32m--> 105\u001b[0;31m                 \u001b[0mexp_avg_sq\u001b[0m\u001b[0;34m.\u001b[0m\u001b[0mmul_\u001b[0m\u001b[0;34m(\u001b[0m\u001b[0mbeta2\u001b[0m\u001b[0;34m)\u001b[0m\u001b[0;34m.\u001b[0m\u001b[0maddcmul_\u001b[0m\u001b[0;34m(\u001b[0m\u001b[0mgrad\u001b[0m\u001b[0;34m,\u001b[0m \u001b[0mgrad\u001b[0m\u001b[0;34m,\u001b[0m \u001b[0mvalue\u001b[0m\u001b[0;34m=\u001b[0m\u001b[0;36m1\u001b[0m \u001b[0;34m-\u001b[0m \u001b[0mbeta2\u001b[0m\u001b[0;34m)\u001b[0m\u001b[0;34m\u001b[0m\u001b[0;34m\u001b[0m\u001b[0m\n\u001b[0m\u001b[1;32m    106\u001b[0m                 \u001b[0;32mif\u001b[0m \u001b[0mamsgrad\u001b[0m\u001b[0;34m:\u001b[0m\u001b[0;34m\u001b[0m\u001b[0;34m\u001b[0m\u001b[0m\n\u001b[1;32m    107\u001b[0m                     \u001b[0;31m# Maintains the maximum of all 2nd moment running avg. till now\u001b[0m\u001b[0;34m\u001b[0m\u001b[0;34m\u001b[0m\u001b[0;34m\u001b[0m\u001b[0m\n",
            "\u001b[0;31mKeyboardInterrupt\u001b[0m: "
          ]
        }
      ]
    },
    {
      "cell_type": "markdown",
      "metadata": {
        "id": "PDmKw9pMH3NJ"
      },
      "source": [
        "# Resume Training"
      ]
    },
    {
      "cell_type": "code",
      "metadata": {
        "colab": {
          "base_uri": "https://localhost:8080/"
        },
        "id": "0UlgNih0H2DD",
        "outputId": "26725576-e206-4cee-ffc7-04f73cfead8b"
      },
      "source": [
        "import numpy as np\n",
        "EPOCH_LOAD_PREFIX = '/content/drive/Shared drives/CIS680 Final Project/models/spatial_new/'\n",
        "EPOCH_SAVE_PREFIX = '/content/drive/Shared drives/CIS680 Final Project/models/spatial_sampled_3/'\n",
        "\n",
        "# Device\n",
        "device = torch.device('cuda') if torch.cuda.is_available() else torch.device('cpu')\n",
        "torch.random.manual_seed(1)\n",
        "\n",
        "# model\n",
        "learning_rate = 0.01\n",
        "spatial = SpatialStream()\n",
        "spatial.to(device)\n",
        "optimizer = optim.SGD(spatial.parameters(), lr=learning_rate, momentum=0.9)\n",
        "\n",
        "# initialize weights\n",
        "# for m in spatial.modules():\n",
        "#     if isinstance(m, torch.nn.Linear):\n",
        "#         torch.nn.init.normal_(m.weight, mean = 0, std = 0.01)\n",
        "#         torch.nn.init.constant_(m.bias, 0)\n",
        "\n",
        "# Epochs\n",
        "num_epochs = 450\n",
        "epoch_list = np.arange(num_epochs)\n",
        "\n",
        "# Load params\n",
        "last_epoch = 441\n",
        "\n",
        "# load data\n",
        "network_path = EPOCH_SAVE_PREFIX + 'spatial_epoch{}'.format(last_epoch)\n",
        "checkpoint = torch.load(network_path)\n",
        "spatial.load_state_dict(checkpoint['model_state_dict'])\n",
        "#optimizer.load_state_dict(checkpoint['optimizer_state_dict'])\n",
        "last_epoch = checkpoint['epoch']\n",
        "\n",
        "# Logging setup: train\n",
        "train_loss_list = checkpoint['train_total_loss_list']\n",
        "epoch_loss_list = checkpoint['epoch_total_loss_list']\n",
        "test_loss_list = checkpoint['test_loss_list']\n",
        "accuracy_list = checkpoint['accuracy_list']\n",
        "train_counter = checkpoint['train_counter']\n",
        "\n",
        "# epoch loop\n",
        "for epoch in range(last_epoch + 1, num_epochs):\n",
        "\n",
        "    # Train & Validate\n",
        "    train(epoch)\n",
        "    test()\n",
        "\n",
        "    # Adjust Learning Rate\n",
        "    # if epoch == 8 or epoch == 13:\n",
        "    #     pass\n",
        "\n",
        "    # Save Model Version\n",
        "    save_path = os.path.join(EPOCH_SAVE_PREFIX, 'spatial_epoch' + str(epoch))\n",
        "    torch.save({\n",
        "        'epoch': epoch,\n",
        "        'train_total_loss_list': train_loss_list,\n",
        "        'epoch_total_loss_list': epoch_loss_list,\n",
        "        'test_loss_list': test_loss_list,\n",
        "        'train_counter': train_counter,\n",
        "        'accuracy_list': accuracy_list,\n",
        "        'model_state_dict': spatial.state_dict(),\n",
        "        'optimizer_state_dict': optimizer.state_dict()\n",
        "    }, save_path)\n",
        "\n",
        "    print(\"Epoch %d/%d Completed\" % (epoch, num_epochs - 1))"
      ],
      "execution_count": 8,
      "outputs": [
        {
          "output_type": "stream",
          "text": [
            "/usr/local/lib/python3.6/dist-packages/torch/nn/modules/container.py:117: UserWarning: Implicit dimension choice for softmax has been deprecated. Change the call to include dim=X as an argument.\n",
            "  input = module(input)\n"
          ],
          "name": "stderr"
        },
        {
          "output_type": "stream",
          "text": [
            "Epoch:  442 , Batch:  0 , loss avg over log interval:  3.540598154067993\n",
            "Epoch:  442 , Batch:  24 , loss avg over log interval:  3.374176959991455\n",
            "Epoch:  442 , Batch:  49 , loss avg over log interval:  3.514953365325928\n",
            "saving model\n",
            "Epoch:  442 , Batch:  74 , loss avg over log interval:  3.5419325637817383\n",
            "Epoch:  442 , Batch:  99 , loss avg over log interval:  3.513554039001465\n",
            "saving model\n",
            "Epoch:  442 , Batch:  124 , loss avg over log interval:  3.51053334236145\n",
            "saving model\n",
            "Epoch:  442 , avg total loss:  3.518912939057834\n",
            "iter   0\n",
            "accuracy so far =  0.5390625\n",
            "Avg Validation Loss:  0.02774215194064512\n",
            "Accuracy:  0.5175898931000972\n",
            "Epoch 442/449 Completed\n",
            "Epoch:  443 , Batch:  0 , loss avg over log interval:  3.5342371463775635\n",
            "Epoch:  443 , Batch:  24 , loss avg over log interval:  3.3731466007232664\n",
            "Epoch:  443 , Batch:  49 , loss avg over log interval:  3.5089274978637697\n",
            "saving model\n",
            "Epoch:  443 , Batch:  74 , loss avg over log interval:  3.5215781211853026\n",
            "Epoch:  443 , Batch:  99 , loss avg over log interval:  3.5100856971740724\n",
            "saving model\n",
            "Epoch:  443 , Batch:  124 , loss avg over log interval:  3.4879236793518067\n",
            "saving model\n",
            "Epoch:  443 , avg total loss:  3.510118334189705\n",
            "iter   0\n",
            "accuracy so far =  0.765625\n",
            "Avg Validation Loss:  0.027720863501694275\n",
            "Accuracy:  0.5257531584062196\n",
            "Epoch 443/449 Completed\n",
            "Epoch:  444 , Batch:  0 , loss avg over log interval:  3.506014585494995\n",
            "Epoch:  444 , Batch:  24 , loss avg over log interval:  3.3512415409088137\n",
            "Epoch:  444 , Batch:  49 , loss avg over log interval:  3.51376992225647\n",
            "saving model\n",
            "Epoch:  444 , Batch:  74 , loss avg over log interval:  3.5042473697662353\n",
            "Epoch:  444 , Batch:  99 , loss avg over log interval:  3.5199702262878416\n",
            "saving model\n",
            "Epoch:  444 , Batch:  124 , loss avg over log interval:  3.517872838973999\n",
            "saving model\n",
            "Epoch:  444 , avg total loss:  3.51110989978348\n",
            "iter   0\n",
            "accuracy so far =  0.40625\n",
            "Avg Validation Loss:  0.027906044393748886\n",
            "Accuracy:  0.5080660835762877\n",
            "Epoch 444/449 Completed\n",
            "Epoch:  445 , Batch:  0 , loss avg over log interval:  3.4529147148132324\n",
            "Epoch:  445 , Batch:  24 , loss avg over log interval:  3.372152967453003\n",
            "Epoch:  445 , Batch:  49 , loss avg over log interval:  3.5179430770874025\n",
            "saving model\n",
            "Epoch:  445 , Batch:  74 , loss avg over log interval:  3.5054980278015138\n",
            "Epoch:  445 , Batch:  99 , loss avg over log interval:  3.5067011642456056\n",
            "saving model\n",
            "Epoch:  445 , Batch:  124 , loss avg over log interval:  3.5182976627349856\n",
            "saving model\n",
            "Epoch:  445 , avg total loss:  3.5129864906919175\n",
            "iter   0\n",
            "accuracy so far =  0.78125\n",
            "Avg Validation Loss:  0.02772314323744111\n",
            "Accuracy:  0.531584062196307\n",
            "Epoch 445/449 Completed\n",
            "Epoch:  446 , Batch:  0 , loss avg over log interval:  3.5043234825134277\n",
            "Epoch:  446 , Batch:  24 , loss avg over log interval:  3.3667195224761963\n",
            "Epoch:  446 , Batch:  49 , loss avg over log interval:  3.514402484893799\n",
            "saving model\n",
            "Epoch:  446 , Batch:  74 , loss avg over log interval:  3.5085490322113038\n",
            "Epoch:  446 , Batch:  99 , loss avg over log interval:  3.5267661094665526\n",
            "saving model\n",
            "Epoch:  446 , Batch:  124 , loss avg over log interval:  3.500812168121338\n",
            "saving model\n",
            "Epoch:  446 , avg total loss:  3.510860221973364\n",
            "iter   0\n",
            "accuracy so far =  0.8359375\n",
            "Avg Validation Loss:  0.02799083859857943\n",
            "Accuracy:  0.4987366375121477\n",
            "Epoch 446/449 Completed\n",
            "Epoch:  447 , Batch:  0 , loss avg over log interval:  3.4591405391693115\n",
            "Epoch:  447 , Batch:  24 , loss avg over log interval:  3.36590576171875\n",
            "Epoch:  447 , Batch:  49 , loss avg over log interval:  3.4998854064941405\n",
            "saving model\n",
            "Epoch:  447 , Batch:  74 , loss avg over log interval:  3.5143394470214844\n",
            "Epoch:  447 , Batch:  99 , loss avg over log interval:  3.508244571685791\n",
            "saving model\n",
            "Epoch:  447 , Batch:  124 , loss avg over log interval:  3.5143785953521727\n",
            "saving model\n",
            "Epoch:  447 , avg total loss:  3.5068695804347163\n",
            "iter   0\n",
            "accuracy so far =  0.453125\n",
            "Avg Validation Loss:  0.02786083175095687\n",
            "Accuracy:  0.5138969873663751\n",
            "Epoch 447/449 Completed\n",
            "Epoch:  448 , Batch:  0 , loss avg over log interval:  3.4848761558532715\n",
            "Epoch:  448 , Batch:  24 , loss avg over log interval:  3.362716569900513\n",
            "Epoch:  448 , Batch:  49 , loss avg over log interval:  3.497040433883667\n",
            "saving model\n",
            "Epoch:  448 , Batch:  74 , loss avg over log interval:  3.509789505004883\n",
            "Epoch:  448 , Batch:  99 , loss avg over log interval:  3.5173438453674315\n",
            "saving model\n",
            "Epoch:  448 , Batch:  124 , loss avg over log interval:  3.5051385879516603\n",
            "saving model\n",
            "Epoch:  448 , avg total loss:  3.506225235220315\n",
            "iter   0\n",
            "accuracy so far =  0.8828125\n",
            "Avg Validation Loss:  0.028295720029039448\n",
            "Accuracy:  0.46258503401360546\n",
            "Epoch 448/449 Completed\n",
            "Epoch:  449 , Batch:  0 , loss avg over log interval:  3.4836087226867676\n",
            "Epoch:  449 , Batch:  24 , loss avg over log interval:  3.3635230445861817\n",
            "Epoch:  449 , Batch:  49 , loss avg over log interval:  3.4919956016540525\n",
            "saving model\n",
            "Epoch:  449 , Batch:  74 , loss avg over log interval:  3.5144531536102295\n",
            "Epoch:  449 , Batch:  99 , loss avg over log interval:  3.511820650100708\n",
            "saving model\n",
            "Epoch:  449 , Batch:  124 , loss avg over log interval:  3.504193067550659\n",
            "saving model\n",
            "Epoch:  449 , avg total loss:  3.5032932861991553\n",
            "iter   0\n",
            "accuracy so far =  0.484375\n",
            "Avg Validation Loss:  0.027929442223121635\n",
            "Accuracy:  0.5067055393586006\n",
            "Epoch 449/449 Completed\n"
          ],
          "name": "stdout"
        }
      ]
    },
    {
      "cell_type": "markdown",
      "metadata": {
        "id": "Fy2dqXCRNr7g"
      },
      "source": [
        "# Calculate Accuracy of a Saved Model"
      ]
    },
    {
      "cell_type": "code",
      "metadata": {
        "colab": {
          "base_uri": "https://localhost:8080/"
        },
        "id": "2-Nbs6zlNy_0",
        "outputId": "91c0cdc0-e590-47f4-efbd-5ec4976b4e90"
      },
      "source": [
        "# Device\n",
        "device = torch.device('cuda') if torch.cuda.is_available() else torch.device('cpu')\n",
        "\n",
        "# model\n",
        "learning_rate = 0.001\n",
        "spatial = SpatialStream()\n",
        "spatial.to(device)\n",
        "optimizer = optim.SGD(spatial.parameters(), lr=learning_rate, momentum=0.9)\n",
        "\n",
        "# Load params\n",
        "last_epoch = 395\n",
        "\n",
        "# load data\n",
        "network_path = EPOCH_SAVE_PREFIX + 'spatial_epoch{}'.format(last_epoch)\n",
        "checkpoint = torch.load(network_path)\n",
        "spatial.load_state_dict(checkpoint['model_state_dict'])\n",
        "optimizer.load_state_dict(checkpoint['optimizer_state_dict'])\n",
        "last_epoch = checkpoint['epoch']\n",
        "\n",
        "# Logging setup: train\n",
        "train_loss_list = checkpoint['train_total_loss_list']\n",
        "epoch_loss_list = checkpoint['epoch_total_loss_list']\n",
        "test_loss_list = checkpoint['test_loss_list']\n",
        "train_counter = checkpoint['train_counter']\n",
        "\n",
        "test()"
      ],
      "execution_count": null,
      "outputs": [
        {
          "output_type": "stream",
          "text": [
            "/usr/local/lib/python3.6/dist-packages/torch/nn/modules/container.py:117: UserWarning: Implicit dimension choice for softmax has been deprecated. Change the call to include dim=X as an argument.\n",
            "  input = module(input)\n"
          ],
          "name": "stderr"
        },
        {
          "output_type": "stream",
          "text": [
            "iter   0\n",
            "accuracy so far =  0.4921875\n",
            "Avg Validation Loss:  0.0286812146301576\n",
            "Accuracy:  0.4911447872923133\n"
          ],
          "name": "stdout"
        }
      ]
    },
    {
      "cell_type": "markdown",
      "metadata": {
        "id": "TBlIZRcTZIOZ"
      },
      "source": [
        "# Plotting"
      ]
    },
    {
      "cell_type": "code",
      "metadata": {
        "id": "OlPLWagHAYEz",
        "colab": {
          "base_uri": "https://localhost:8080/",
          "height": 1000
        },
        "outputId": "f174ab73-61f1-458c-dc04-fecae1b9e30b"
      },
      "source": [
        "import matplotlib.pyplot as plt\n",
        "import torch\n",
        "import numpy as np\n",
        "\n",
        "\n",
        "EPOCH_SAVE_PREFIX = '/content/drive/Shared drives/CIS680 Final Project/models/spatial_sampled_3/'\n",
        "\n",
        "# Device\n",
        "device = torch.device('cuda') if torch.cuda.is_available() else torch.device('cpu')\n",
        "torch.random.manual_seed(1)\n",
        "\n",
        "# Load params\n",
        "last_epoch = 445\n",
        "\n",
        "# load data\n",
        "network_path = EPOCH_SAVE_PREFIX + 'spatial_epoch{}'.format(last_epoch)\n",
        "checkpoint = torch.load(network_path)\n",
        "train_loss_list = checkpoint['train_total_loss_list']\n",
        "epoch_loss_list = checkpoint['epoch_total_loss_list']\n",
        "train_counter = checkpoint['train_counter']\n",
        "test_loss_list = checkpoint['test_loss_list']\n",
        "accuracy_list = checkpoint['accuracy_list']\n",
        "epoch_list = np.arange(last_epoch+1)\n",
        "print(epoch_list)\n",
        "print(accuracy_list)\n",
        "\n",
        "# plots\n",
        "fig = plt.figure()\n",
        "plt.plot(epoch_loss_list, color='blue')\n",
        "plt.legend(['Spatial Train Loss'], loc='upper right')\n",
        "plt.xlabel('Epochs')\n",
        "plt.ylabel('Total Loss')\n",
        "\n",
        "fig = plt.figure()\n",
        "plt.plot(test_loss_list, color='green')\n",
        "plt.legend(['Spatial Validation Loss'], loc='upper right')\n",
        "plt.xlabel('Epochs')\n",
        "plt.ylabel('Total Loss')\n",
        "\n",
        "fig = plt.figure()\n",
        "plt.plot(accuracy_list, color='red')\n",
        "plt.legend(['Spatial Validation Accuracy'], loc='lower right')\n",
        "plt.xlabel('Epochs')\n",
        "plt.ylabel('Accuracy')\n",
        "\n",
        "\n",
        "plt.show()"
      ],
      "execution_count": 3,
      "outputs": [
        {
          "output_type": "stream",
          "text": [
            "[  0   1   2   3   4   5   6   7   8   9  10  11  12  13  14  15  16  17\n",
            "  18  19  20  21  22  23  24  25  26  27  28  29  30  31  32  33  34  35\n",
            "  36  37  38  39  40  41  42  43  44  45  46  47  48  49  50  51  52  53\n",
            "  54  55  56  57  58  59  60  61  62  63  64  65  66  67  68  69  70  71\n",
            "  72  73  74  75  76  77  78  79  80  81  82  83  84  85  86  87  88  89\n",
            "  90  91  92  93  94  95  96  97  98  99 100 101 102 103 104 105 106 107\n",
            " 108 109 110 111 112 113 114 115 116 117 118 119 120 121 122 123 124 125\n",
            " 126 127 128 129 130 131 132 133 134 135 136 137 138 139 140 141 142 143\n",
            " 144 145 146 147 148 149 150 151 152 153 154 155 156 157 158 159 160 161\n",
            " 162 163 164 165 166 167 168 169 170 171 172 173 174 175 176 177 178 179\n",
            " 180 181 182 183 184 185 186 187 188 189 190 191 192 193 194 195 196 197\n",
            " 198 199 200 201 202 203 204 205 206 207 208 209 210 211 212 213 214 215\n",
            " 216 217 218 219 220 221 222 223 224 225 226 227 228 229 230 231 232 233\n",
            " 234 235 236 237 238 239 240 241 242 243 244 245 246 247 248 249 250 251\n",
            " 252 253 254 255 256 257 258 259 260 261 262 263 264 265 266 267 268 269\n",
            " 270 271 272 273 274 275 276 277 278 279 280 281 282 283 284 285 286 287\n",
            " 288 289 290 291 292 293 294 295 296 297 298 299 300 301 302 303 304 305\n",
            " 306 307 308 309 310 311 312 313 314 315 316 317 318 319 320 321 322 323\n",
            " 324 325 326 327 328 329 330 331 332 333 334 335 336 337 338 339 340 341\n",
            " 342 343 344 345 346 347 348 349 350 351 352 353 354 355 356 357 358 359\n",
            " 360 361 362 363 364 365 366 367 368 369 370 371 372 373 374 375 376 377\n",
            " 378 379 380 381 382 383 384 385 386 387 388 389 390 391 392 393 394 395\n",
            " 396 397 398 399 400 401 402 403 404 405 406 407 408 409 410 411 412 413\n",
            " 414 415 416 417 418 419 420 421 422 423 424 425 426 427 428 429 430 431\n",
            " 432 433 434 435 436 437 438 439 440 441 442 443 444 445]\n",
            "[0.04619317144422129, 0.02556143874383787, 0.02136205952163593, 0.02136205952163593, 0.02136205952163593, 0.02136205952163593, 0.02136205952163593, 0.02136205952163593, 0.02136205952163593, 0.02136205952163593, 0.03231696184042359, 0.05568742012050393, 0.08234434909622056, 0.08909987219280628, 0.09202117947781632, 0.09256892459375571, 0.09329925141500822, 0.09329925141500822, 0.0931166697096951, 0.09348183312032135, 0.09475990505751324, 0.1024283366806646, 0.11484389264195728, 0.13182399123607816, 0.140222749680482, 0.1440569654920577, 0.1480737630089465, 0.14770859959832025, 0.1486215081248859, 0.1513602337045828, 0.15172539711520905, 0.15647252145335036, 0.16176739090743109, 0.165966770129633, 0.1699835676465218, 0.16943582253058243, 0.16870549570932994, 0.17290487493153187, 0.17290487493153187, 0.17400036516341064, 0.18860690158846083, 0.1957275880956728, 0.2041263465400767, 0.21617673909074311, 0.21617673909074311, 0.21982837319700566, 0.23443490962205588, 0.2426510863611466, 0.2477633741099142, 0.25013693627898487, 0.24849370093116668, 0.25397115209056054, 0.2557969691436918, 0.2570750410808837, 0.25926602154464123, 0.25415373379587364, 0.2616395837137119, 0.2641957275880957, 0.2638305641774694, 0.26967317874748953, 0.2736899762643783, 0.28975716633193355, 0.2966952711338324, 0.3007120686507212, 0.3034507942304181, 0.3041811210516706, 0.3100237356216907, 0.3156837684863977, 0.31239729779076136, 0.3182399123607815, 0.3200657294139127, 0.31677925871827645, 0.3277341610370641, 0.32901223297425597, 0.33357677560708415, 0.3357677560708417, 0.33795873653459924, 0.339054226766478, 0.3423406974621143, 0.33795873653459924, 0.34142778893554865, 0.34197553405148806, 0.34416651451524555, 0.3416103706408618, 0.337593573123973, 0.3425232791674274, 0.3428884425780537, 0.3456271681577506, 0.3496439656746394, 0.35786014241373015, 0.35804272411904325, 0.36333759357312395, 0.35621690706591197, 0.37447507759722476, 0.3700931166697097, 0.36333759357312395, 0.3750228227131641, 0.373379587365346, 0.38415190797882054, 0.38415190797882054, 0.389081614022275, 0.3861603067372649, 0.39875844440387076, 0.3932809932444769, 0.40277524192075953, 0.38962935913821434, 0.40679203943764836, 0.4022274968048202, 0.4022274968048202, 0.40478364067920397, 0.3971152090560526, 0.4031404053313858, 0.40624429432170894, 0.4066094577323352, 0.40496622238451707, 0.4011320065729414, 0.4004016797516889, 0.40496622238451707, 0.4098959284279715, 0.3721015154281541, 0.40094942486762825, 0.40752236625890087, 0.4109914186598503, 0.4022274968048202, 0.40752236625890087, 0.39565455541354755, 0.40094942486762825, 0.40697462114296146, 0.40533138579514333, 0.4098959284279715, 0.409165601606719, 0.4058791309110827, 0.41482563447142595, 0.4089830199014059, 0.4133649808289209, 0.4084352747854665, 0.4137301442395472, 0.41153916377578964, 0.41281723571298157, 0.4142778893554866, 0.4117217454811028, 0.41756436005112285, 0.409165601606719, 0.41939017710425414, 0.4190250136936279, 0.41537337958736537, 0.41464305276611285, 0.4239547197370823, 0.4239547197370823, 0.42778893554865804, 0.4283366806645974, 0.43052766112835494, 0.43655285740368815, 0.43381413182399126, 0.4422128902683951, 0.4352747854664963, 0.3892641957275881, 0.44440387073215265, 0.4354573671718094, 0.443490962205587, 0.4403870732152638, 0.44276063538433447, 0.44769034142778896, 0.42870184407522366, 0.44166514515245575, 0.43929158298338505, 0.43326638670805184, 0.44969874018623335, 0.44714259631184955, 0.4493335767756071, 0.44385612561621324, 0.44531677925871826, 0.45316779258718276, 0.45754975351469784, 0.4526200474712434, 0.45298521088186966, 0.4467774329012233, 0.4538981194084353, 0.4537155377031222, 0.44531677925871826, 0.44915099507029393, 0.452072302355304, 0.4537155377031222, 0.45517619134562715, 0.45499360964031405, 0.45700200839875843, 0.4533503742924959, 0.4537155377031222, 0.4528026291765565, 0.45572393646156656, 0.44915099507029393, 0.4537155377031222, 0.45170713894467773, 0.4540807011137484, 0.4526200474712434, 0.4518897206499909, 0.4538981194084353, 0.4540807011137484, 0.4460471060799708, 0.44531677925871826, 0.4511593938287384, 0.4376483476355669, 0.45042906700748586, 0.4540807011137484, 0.4560890998721928, 0.453532955997809, 0.45243746576593025, 0.45042906700748586, 0.4356399488771225, 0.45243746576593025, 0.42340697462114296, 0.4495161584809202, 0.4495161584809202, 0.4482380865437283, 0.4482380865437283, 0.4495161584809202, 0.44896841336498083, 0.4431257987949607, 0.4475077597224758, 0.4412999817418295, 0.4447690341427789, 0.45298521088186966, 0.42450246485302173, 0.44896841336498083, 0.44769034142778896, 0.4484206682490414, 0.4294321708964762, 0.452072302355304, 0.4518897206499909, 0.44805550483841516, 0.45426328281906153, 0.46193171444221287, 0.4540807011137484, 0.45499360964031405, 0.4526200474712434, 0.43910900127807195, 0.45517619134562715, 0.452072302355304, 0.4513419755340515, 0.46174913273689977, 0.4555413547562534, 0.4626620412634654, 0.45773233522001094, 0.4579149169253241, 0.4648530217272229, 0.4639401132006573, 0.45828008033595036, 0.46613109366441485, 0.45298521088186966, 0.45773233522001094, 0.45937557056782913, 0.4622968778528391, 0.4668614204856673, 0.46284462296877854, 0.46613109366441485, 0.46101880591564726, 0.45499360964031405, 0.46120138762096036, 0.46047106079970784, 0.4555413547562534, 0.45444586452437463, 0.4509768121234252, 0.45700200839875843, 0.46010589738908164, 0.46448785831659667, 0.4484206682490414, 0.46193171444221287, 0.4599233156837685, 0.453532955997809, 0.4555413547562534, 0.45499360964031405, 0.4657659302537886, 0.46375753149534416, 0.45572393646156656, 0.4597407339784554, 0.4560890998721928, 0.46302720467409164, 0.4579149169253241, 0.453532955997809, 0.4296147526017893, 0.4562716815775059, 0.46047106079970784, 0.45828008033595036, 0.46010589738908164, 0.4482380865437283, 0.45773233522001094, 0.46357494979003105, 0.46120138762096036, 0.4538981194084353, 0.45846266204126346, 0.45170713894467773, 0.4588278254518897, 0.4650356034325361, 0.4573671718093847, 0.47233887164506116, 0.4785466496257075, 0.45499360964031405, 0.46905240094942485, 0.4747124338141318, 0.483476355669162, 0.48274602884790946, 0.46631367536972795, 0.47599050575132373, 0.4858499178382326, 0.4756253423406975, 0.48822348000730326, 0.48402410078510133, 0.48749315318605074, 0.48292861055322256, 0.47215628993974806, 0.48986671535512144, 0.4902318787657477, 0.4701478911813036, 0.489318970239182, 0.4712433814131824, 0.48384151907978823, 0.480737630089465, 0.4781814862150813, 0.48493700931166694, 0.4809202117947782, 0.47891181303633373, 0.4818331203213438, 0.4836589373744751, 0.48493700931166694, 0.4843892641957276, 0.4831111922585357, 0.48384151907978823, 0.4818331203213438, 0.4842066824904145, 0.48676282636479823, 0.48895380682855577, 0.48128537520540443, 0.4884060617126164, 0.4809202117947782, 0.48566733613291946, 0.48658024465948513, 0.48402410078510133, 0.49004929706043454, 0.48548475442760636, 0.48877122512324267, 0.4891363885338689, 0.483476355669162, 0.49077962388168705, 0.4858499178382326, 0.4920576958188789, 0.4858499178382326, 0.4918751141135658, 0.48749315318605074, 0.4920576958188789, 0.48877122512324267, 0.49333576775607085, 0.4896841336498083, 0.4989958006207778, 0.49698740186233337, 0.4938835128720102, 0.5022822713164141, 0.4946138396932627, 0.4946138396932627, 0.49333576775607085, 0.49424867628263647, 0.5010041993792222, 0.49698740186233337, 0.4962570750410809, 0.4962570750410809, 0.4944312579879496, 0.4946138396932627, 0.4962570750410809, 0.494979003103889, 0.5008216176739091, 0.49808289209421214, 0.49662223845170717, 0.4999087091473434, 0.49096220558700016, 0.49863063721015155, 0.5026474347270403, 0.5002738725579697, 0.503560343253606, 0.5022822713164141, 0.4989958006207778, 0.4954324586977648, 0.4775510204081633, 0.47444120505344994, 0.462779397473275, 0.5002915451895044, 0.48999028182701654, 0.4880466472303207, 0.47852283770651116, 0.4931000971817298, 0.5000971817298347, 0.4931000971817298, 0.48415937803692904, 0.5037900874635568, 0.5061224489795918, 0.4960155490767736, 0.4884353741496599, 0.505150631681244, 0.5224489795918368, 0.4971817298347911, 0.48104956268221577, 0.500485908649174, 0.4775510204081633, 0.4717201166180758, 0.4897959183673469, 0.493488824101069, 0.48551992225461615, 0.47677356656948494, 0.47657920310981533, 0.5057337220602527, 0.5121477162293488, 0.5107871720116618, 0.5020408163265306, 0.5140913508260447, 0.4923226433430515, 0.5045675413022351, 0.4967930029154519, 0.4967930029154519, 0.4944606413994169, 0.4621963070942663, 0.5039844509232264, 0.4862973760932945, 0.4921282798833819, 0.49834791059280853, 0.4835762876579203, 0.47210884353741495, 0.48999028182701654, 0.4913508260447036, 0.4707482993197279, 0.4847424684159378, 0.4948493683187561, 0.4897959183673469, 0.5039844509232264, 0.4806608357628766, 0.4513119533527697, 0.4703595724003887, 0.480466472303207, 0.495821185617104, 0.4771622934888241, 0.5096209912536444, 0.5002915451895044, 0.4897959183673469, 0.4923226433430515, 0.5183673469387755, 0.5175898931000972, 0.5257531584062196, 0.5080660835762877, 0.531584062196307]\n"
          ],
          "name": "stdout"
        },
        {
          "output_type": "display_data",
          "data": {
            "image/png": "[encoded data removed]",
            "text/plain": [
              "<Figure size 432x288 with 1 Axes>"
            ]
          },
          "metadata": {
            "tags": [],
            "needs_background": "light"
          }
        },
        {
          "output_type": "display_data",
          "data": {
            "image/png": "[encoded data removed]",
            "text/plain": [
              "<Figure size 432x288 with 1 Axes>"
            ]
          },
          "metadata": {
            "tags": [],
            "needs_background": "light"
          }
        },
        {
          "output_type": "display_data",
          "data": {
            "image/png": "[encoded data removed]",
            "text/plain": [
              "<Figure size 432x288 with 1 Axes>"
            ]
          },
          "metadata": {
            "tags": [],
            "needs_background": "light"
          }
        }
      ]
    }
  ]
}